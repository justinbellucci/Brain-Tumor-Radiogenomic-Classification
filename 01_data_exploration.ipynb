{
 "cells": [
  {
   "cell_type": "markdown",
   "id": "3eaa61f4",
   "metadata": {},
   "source": [
    "# *Brain Tumor Radiogenomic Classification* \n",
    "#### -> _3D CNN with PyTorch_"
   ]
  },
  {
   "cell_type": "markdown",
   "id": "ec13c115",
   "metadata": {},
   "source": [
    "### Problem Description \n",
    "A malignant tumor in the brain is a life-threatening condition. Known as glioblastoma, it's both the most common form of brain cancer in adults and the one with the worst prognosis, with median survival being less than a year. The presence of a specific genetic sequence in the tumor known as MGMT promoter methylation has been shown to be a favorable prognostic factor and a strong predictor of responsiveness to chemotherapy. "
   ]
  },
  {
   "cell_type": "markdown",
   "id": "8e13eb7b",
   "metadata": {},
   "source": [
    "### Data Description\n",
    "\n",
    "U.Baid, et al., “The RSNA-ASNR-MICCAI BraTS 2021 Benchmark on Brain Tumor Segmentation and Radiogenomic Classification”, arXiv:2107.02314, 2021."
   ]
  },
  {
   "cell_type": "markdown",
   "id": "1ec58b3a",
   "metadata": {},
   "source": [
    "### Outline\n",
    "1. [Exploring the data](#exploring)"
   ]
  },
  {
   "cell_type": "code",
   "execution_count": 12,
   "id": "a087e190",
   "metadata": {},
   "outputs": [],
   "source": [
    "# !pip install pydicom"
   ]
  },
  {
   "cell_type": "code",
   "execution_count": 7,
   "id": "c80ea798",
   "metadata": {},
   "outputs": [],
   "source": [
    "# necessary imports\n",
    "import os\n",
    "import sys\n",
    "import glob\n",
    "from tqdm import tqdm\n",
    "import numpy as np\n",
    "import pandas as pd\n",
    "import seaborn as sns\n",
    "import matplotlib.pyplot as plt\n",
    "from time import time\n",
    "import pydicom\n",
    "from pydicom.pixel_data_handlers.util import apply_voi_lut\n",
    "import cv2\n",
    "\n",
    "from sklearn.model_selection import train_test_split\n",
    "from sklearn.metrics import roc_auc_score\n",
    "\n",
    "import torch \n",
    "import torch.nn as nn\n",
    "import torch.nn.functional as F\n",
    "import torch.optim as optim\n",
    "from torch.utils.data import Dataset, DataLoader\n",
    "from torchvision import models, transforms, utils\n",
    "\n",
    "%matplotlib inline\n",
    "%config InlineBackend.figure_format = 'retina'"
   ]
  },
  {
   "cell_type": "code",
   "execution_count": 10,
   "id": "7969fac2",
   "metadata": {},
   "outputs": [
    {
     "name": "stdout",
     "output_type": "stream",
     "text": [
      "sagemaker-us-west-2-904606187431\n"
     ]
    }
   ],
   "source": [
    "# sagemaker specific imports\n",
    "import boto3\n",
    "import sagemaker\n",
    "\n",
    "# session and role\n",
    "sagemaker_session = sagemaker.Session()\n",
    "role = sagemaker.get_execution_role()\n",
    "\n",
    "sagemaker_bucket = sagemaker_session.default_bucket()\n",
    "print(sagemaker_bucket)"
   ]
  },
  {
   "cell_type": "markdown",
   "id": "09901be1",
   "metadata": {},
   "source": [
    "<a id='exploring'></a>\n",
    "### Exploring the Data"
   ]
  },
  {
   "cell_type": "markdown",
   "id": "e3e72999",
   "metadata": {},
   "source": [
    "Training and test data structure is as follows:\n",
    "1.  FLAIR - Fluid Attenuated Inversion Recovery\n",
    "2.  T1w - T1-weighted pre-contrast\n",
    "    * fluid (black) - low signal intensity\n",
    "    * fat (white) - high signal intensity\n",
    "    * grey matter (grey) - intermediate signal intensity\n",
    "    * white matter (white-ish)\n",
    "3.  T1wCE - T1-weighted post-contrast\n",
    "4.  T2w - T2-weighted \n",
    "    * fluid (white) - high signal intensity\n",
    "    * fat (white) - high signal intensity\n",
    "    * grey matter (grey) - intermediate signal intensity\n",
    "    * white matter (black-ish)"
   ]
  },
  {
   "cell_type": "code",
   "execution_count": 15,
   "id": "810d7267",
   "metadata": {},
   "outputs": [
    {
     "name": "stdout",
     "output_type": "stream",
     "text": [
      "Model artifacts and data will be stored in  s3://sagemaker-us-west-2-904606187431/Radiogenomic/\n",
      "Num train labels:  585\n"
     ]
    },
    {
     "data": {
      "text/html": [
       "<div>\n",
       "<style scoped>\n",
       "    .dataframe tbody tr th:only-of-type {\n",
       "        vertical-align: middle;\n",
       "    }\n",
       "\n",
       "    .dataframe tbody tr th {\n",
       "        vertical-align: top;\n",
       "    }\n",
       "\n",
       "    .dataframe thead th {\n",
       "        text-align: right;\n",
       "    }\n",
       "</style>\n",
       "<table border=\"1\" class=\"dataframe\">\n",
       "  <thead>\n",
       "    <tr style=\"text-align: right;\">\n",
       "      <th></th>\n",
       "      <th>BraTS21ID</th>\n",
       "      <th>MGMT_value</th>\n",
       "    </tr>\n",
       "  </thead>\n",
       "  <tbody>\n",
       "    <tr>\n",
       "      <th>0</th>\n",
       "      <td>0</td>\n",
       "      <td>1</td>\n",
       "    </tr>\n",
       "    <tr>\n",
       "      <th>1</th>\n",
       "      <td>2</td>\n",
       "      <td>1</td>\n",
       "    </tr>\n",
       "    <tr>\n",
       "      <th>2</th>\n",
       "      <td>3</td>\n",
       "      <td>0</td>\n",
       "    </tr>\n",
       "    <tr>\n",
       "      <th>3</th>\n",
       "      <td>5</td>\n",
       "      <td>1</td>\n",
       "    </tr>\n",
       "    <tr>\n",
       "      <th>4</th>\n",
       "      <td>6</td>\n",
       "      <td>1</td>\n",
       "    </tr>\n",
       "  </tbody>\n",
       "</table>\n",
       "</div>"
      ],
      "text/plain": [
       "   BraTS21ID  MGMT_value\n",
       "0          0           1\n",
       "1          2           1\n",
       "2          3           0\n",
       "3          5           1\n",
       "4          6           1"
      ]
     },
     "execution_count": 15,
     "metadata": {},
     "output_type": "execute_result"
    }
   ],
   "source": [
    "# project specific data paths\n",
    "train_labels_key = 'train_labels.csv'\n",
    "\n",
    "s3_prefix = 'Radiogenomic'\n",
    "output_path = 's3://{}/{}/'.format(sagemaker_bucket, s3_prefix)\n",
    "print('Model artifacts and data will be stored in ', output_path)\n",
    "\n",
    "train_labels_df = pd.read_csv(os.path.join(output_path, train_labels_key))\n",
    "print(\"Num train labels: \", len(train_labels_df))\n",
    "train_labels_df.head()"
   ]
  },
  {
   "cell_type": "code",
   "execution_count": 20,
   "id": "7a2ff5c7",
   "metadata": {},
   "outputs": [
    {
     "data": {
      "image/png": "[encoded data removed]",
      "text/plain": [
       "<Figure size 432x288 with 1 Axes>"
      ]
     },
     "metadata": {
      "image/png": {
       "height": 283,
       "width": 395
      }
     },
     "output_type": "display_data"
    }
   ],
   "source": [
    "sns.countplot(data=train_labels_df, x='MGMT_value')\n",
    "ax = sns.set_theme(style='darkgrid')\n",
    "plt.title('Ground Truth Label Distribution')\n",
    "plt.show()"
   ]
  },
  {
   "cell_type": "markdown",
   "id": "b744ea16",
   "metadata": {},
   "source": [
    "#### Read in DICOM Images"
   ]
  },
  {
   "cell_type": "code",
   "execution_count": 55,
   "id": "f93c81c6",
   "metadata": {},
   "outputs": [
    {
     "name": "stdout",
     "output_type": "stream",
     "text": [
      "Radiogenomic/train/00000/FLAIR/Image-1.dcm\n",
      "<botocore.response.StreamingBody object at 0x7f347fbd0240>\n",
      "Dataset.file_meta -------------------------------\n",
      "(0002, 0010) Transfer Syntax UID                 UI: Implicit VR Little Endian\n",
      "-------------------------------------------------\n",
      "(0008, 0005) Specific Character Set              CS: 'ISO_IR 100'\n",
      "(0008, 0008) Image Type                          CS: ['DERIVED', 'SECONDARY']\n",
      "(0008, 0016) SOP Class UID                       UI: MR Image Storage\n",
      "(0008, 0018) SOP Instance UID                    UI: 1.2.826.0.1.3680043.8.498.12945244209965516807097849901085909396\n",
      "(0008, 0050) Accession Number                    SH: '00000'\n",
      "(0008, 0060) Modality                            CS: 'MR'\n",
      "(0008, 103e) Series Description                  LO: 'FLAIR'\n",
      "(0010, 0010) Patient's Name                      PN: '00000'\n",
      "(0010, 0020) Patient ID                          LO: '00000'\n",
      "(0018, 0023) MR Acquisition Type                 CS: '3D'\n",
      "(0018, 0050) Slice Thickness                     DS: '1.2'\n",
      "(0018, 0081) Echo Time                           DS: None\n",
      "(0018, 0082) Inversion Time                      DS: None\n",
      "(0018, 0083) Number of Averages                  DS: '1.0'\n",
      "(0018, 0084) Imaging Frequency                   DS: '127.742358'\n",
      "(0018, 0085) Imaged Nucleus                      SH: '1H'\n",
      "(0018, 0086) Echo Number(s)                      IS: '1'\n",
      "(0018, 0087) Magnetic Field Strength             DS: '3.0'\n",
      "(0018, 0088) Spacing Between Slices              DS: '1.0'\n",
      "(0018, 0091) Echo Train Length                   IS: '200'\n",
      "(0018, 0093) Percent Sampling                    DS: '100.0'\n",
      "(0018, 0094) Percent Phase Field of View         DS: '80.0'\n",
      "(0018, 0095) Pixel Bandwidth                     DS: '139.492'\n",
      "(0018, 1094) Trigger Window                      IS: '0'\n",
      "(0018, 1100) Reconstruction Diameter             DS: '256.0'\n",
      "(0018, 1310) Acquisition Matrix                  US: [0, 256, 256, 0]\n",
      "(0018, 1312) In-plane Phase Encoding Direction   CS: 'ROW'\n",
      "(0018, 1314) Flip Angle                          DS: '90.0'\n",
      "(0018, 1316) SAR                                 DS: '0.677622'\n",
      "(0018, 5100) Patient Position                    CS: 'HFS'\n",
      "(0020, 000d) Study Instance UID                  UI: 1.2.826.0.1.3680043.8.498.21557373119637153130481842401167746353\n",
      "(0020, 000e) Series Instance UID                 UI: 1.2.826.0.1.3680043.8.498.75098256064787219771161442192873622098\n",
      "(0020, 0011) Series Number                       IS: '4'\n",
      "(0020, 0013) Instance Number                     IS: '1'\n",
      "(0020, 0032) Image Position (Patient)            DS: [-125.094, 90.3865, 127.74]\n",
      "(0020, 0037) Image Orientation (Patient)         DS: [1, -0, 0, -0, -0, -1]\n",
      "(0020, 0060) Laterality                          CS: ''\n",
      "(0020, 1040) Position Reference Indicator        LO: ''\n",
      "(0020, 1041) Slice Location                      DS: '-90.38645935'\n",
      "(0020, 9057) In-Stack Position Number            UL: 3\n",
      "(0028, 0002) Samples per Pixel                   US: 1\n",
      "(0028, 0004) Photometric Interpretation          CS: 'MONOCHROME2'\n",
      "(0028, 0010) Rows                                US: 512\n",
      "(0028, 0011) Columns                             US: 512\n",
      "(0028, 0030) Pixel Spacing                       DS: [0.5, 0.5]\n",
      "(0028, 0100) Bits Allocated                      US: 16\n",
      "(0028, 0101) Bits Stored                         US: 16\n",
      "(0028, 0102) High Bit                            US: 15\n",
      "(0028, 0103) Pixel Representation                US: 1\n",
      "(0028, 1050) Window Center                       DS: '71.0'\n",
      "(0028, 1051) Window Width                        DS: '142.0'\n",
      "(0028, 1052) Rescale Intercept                   DS: '0.0'\n",
      "(0028, 1053) Rescale Slope                       DS: '1.0'\n",
      "(0028, 1054) Rescale Type                        LO: 'US'\n",
      "(7fe0, 0010) Pixel Data                          OW: Array of 524288 elements\n"
     ]
    }
   ],
   "source": [
    "import io \n",
    "\n",
    "test_image_path = os.path.join(s3_prefix, 'train/00000/FLAIR/Image-1.dcm', )\n",
    "print(test_image_path)\n",
    "\n",
    "s3client = boto3.client('s3')\n",
    "test_img = s3client.get_object(Bucket=sagemaker_bucket, Key=test_image_path)\n",
    "print(test_img['Body'])\n",
    "\n",
    "test_data = pydicom.dcmread(io.BytesIO(test_img['Body'].read()))\n",
    "print(test_data)"
   ]
  },
  {
   "cell_type": "code",
   "execution_count": null,
   "id": "2a0507d8",
   "metadata": {},
   "outputs": [],
   "source": []
  }
 ],
 "metadata": {
  "kernelspec": {
   "display_name": "conda_pytorch_p36",
   "language": "python",
   "name": "conda_pytorch_p36"
  },
  "language_info": {
   "codemirror_mode": {
    "name": "ipython",
    "version": 3
   },
   "file_extension": ".py",
   "mimetype": "text/x-python",
   "name": "python",
   "nbconvert_exporter": "python",
   "pygments_lexer": "ipython3",
   "version": "3.6.13"
  }
 },
 "nbformat": 4,
 "nbformat_minor": 5
}
