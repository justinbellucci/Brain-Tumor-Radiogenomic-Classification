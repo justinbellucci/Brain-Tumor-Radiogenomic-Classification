{
 "cells": [
  {
   "cell_type": "markdown",
   "id": "167df17d",
   "metadata": {},
   "source": [
    "# *Brain Tumor Radiogenomic Classification* \n",
    "#### -> _3D CNN with PyTorch_"
   ]
  },
  {
   "cell_type": "markdown",
   "id": "df0bbdca",
   "metadata": {},
   "source": [
    "### Problem Description \n",
    "A malignant tumor in the brain is a life-threatening condition. Known as glioblastoma, it's both the most common form of brain cancer in adults and the one with the worst prognosis, with median survival being less than a year. The presence of a specific genetic sequence in the tumor known as MGMT promoter methylation has been shown to be a favorable prognostic factor and a strong predictor of responsiveness to chemotherapy. "
   ]
  },
  {
   "cell_type": "markdown",
   "id": "a207eae5",
   "metadata": {},
   "source": [
    "### Data Description\n",
    "\n",
    "U.Baid, et al., “The RSNA-ASNR-MICCAI BraTS 2021 Benchmark on Brain Tumor Segmentation and Radiogenomic Classification”, arXiv:2107.02314, 2021."
   ]
  },
  {
   "cell_type": "markdown",
   "id": "a9cb77f6",
   "metadata": {},
   "source": [
    "### Outline\n",
    "1. [Exploring the data](#exploring)"
   ]
  },
  {
   "cell_type": "code",
   "execution_count": 12,
   "id": "757f502e",
   "metadata": {},
   "outputs": [],
   "source": [
    "# !pip install pydicom"
   ]
  },
  {
   "cell_type": "code",
   "execution_count": 7,
   "id": "690b217c",
   "metadata": {},
   "outputs": [],
   "source": [
    "# necessary imports\n",
    "import os\n",
    "import sys\n",
    "import glob\n",
    "from tqdm import tqdm\n",
    "import numpy as np\n",
    "import pandas as pd\n",
    "import seaborn as sns\n",
    "import matplotlib.pyplot as plt\n",
    "from time import time\n",
    "import pydicom\n",
    "from pydicom.pixel_data_handlers.util import apply_voi_lut\n",
    "import cv2\n",
    "\n",
    "from sklearn.model_selection import train_test_split\n",
    "from sklearn.metrics import roc_auc_score\n",
    "\n",
    "import torch \n",
    "import torch.nn as nn\n",
    "import torch.nn.functional as F\n",
    "import torch.optim as optim\n",
    "from torch.utils.data import Dataset, DataLoader\n",
    "from torchvision import models, transforms, utils\n",
    "\n",
    "%matplotlib inline\n",
    "%config InlineBackend.figure_format = 'retina'"
   ]
  },
  {
   "cell_type": "code",
   "execution_count": 10,
   "id": "63a7027b",
   "metadata": {},
   "outputs": [
    {
     "name": "stdout",
     "output_type": "stream",
     "text": [
      "sagemaker-us-west-2-904606187431\n"
     ]
    }
   ],
   "source": [
    "# sagemaker specific imports\n",
    "import boto3\n",
    "import sagemaker\n",
    "\n",
    "# session and role\n",
    "sagemaker_session = sagemaker.Session()\n",
    "role = sagemaker.get_execution_role()\n",
    "\n",
    "sagemaker_bucket = sagemaker_session.default_bucket()\n",
    "print(sagemaker_bucket)"
   ]
  },
  {
   "cell_type": "markdown",
   "id": "3c2776ef",
   "metadata": {},
   "source": [
    "<a id='exploring'></a>\n",
    "### Exploring the Data"
   ]
  },
  {
   "cell_type": "code",
   "execution_count": 11,
   "id": "f54748a9",
   "metadata": {},
   "outputs": [
    {
     "name": "stdout",
     "output_type": "stream",
     "text": [
      "Model artifacts and data will be stored in  s3://sagemaker-us-west-2-904606187431/Radiogenomic/\n",
      "Num train labels:  585\n"
     ]
    },
    {
     "data": {
      "text/html": [
       "<div>\n",
       "<style scoped>\n",
       "    .dataframe tbody tr th:only-of-type {\n",
       "        vertical-align: middle;\n",
       "    }\n",
       "\n",
       "    .dataframe tbody tr th {\n",
       "        vertical-align: top;\n",
       "    }\n",
       "\n",
       "    .dataframe thead th {\n",
       "        text-align: right;\n",
       "    }\n",
       "</style>\n",
       "<table border=\"1\" class=\"dataframe\">\n",
       "  <thead>\n",
       "    <tr style=\"text-align: right;\">\n",
       "      <th></th>\n",
       "      <th>BraTS21ID</th>\n",
       "      <th>MGMT_value</th>\n",
       "    </tr>\n",
       "  </thead>\n",
       "  <tbody>\n",
       "    <tr>\n",
       "      <th>0</th>\n",
       "      <td>0</td>\n",
       "      <td>1</td>\n",
       "    </tr>\n",
       "    <tr>\n",
       "      <th>1</th>\n",
       "      <td>2</td>\n",
       "      <td>1</td>\n",
       "    </tr>\n",
       "    <tr>\n",
       "      <th>2</th>\n",
       "      <td>3</td>\n",
       "      <td>0</td>\n",
       "    </tr>\n",
       "    <tr>\n",
       "      <th>3</th>\n",
       "      <td>5</td>\n",
       "      <td>1</td>\n",
       "    </tr>\n",
       "    <tr>\n",
       "      <th>4</th>\n",
       "      <td>6</td>\n",
       "      <td>1</td>\n",
       "    </tr>\n",
       "  </tbody>\n",
       "</table>\n",
       "</div>"
      ],
      "text/plain": [
       "   BraTS21ID  MGMT_value\n",
       "0          0           1\n",
       "1          2           1\n",
       "2          3           0\n",
       "3          5           1\n",
       "4          6           1"
      ]
     },
     "execution_count": 11,
     "metadata": {},
     "output_type": "execute_result"
    }
   ],
   "source": [
    "# project specific data paths\n",
    "train_labels_key = 'train_labels.csv'\n",
    "\n",
    "s3_prefix = 'Radiogenomic'\n",
    "output_path = 's3://{}/{}/'.format(sagemaker_bucket, s3_prefix)\n",
    "print('Model artifacts and data will be stored in ', output_path)\n",
    "\n",
    "train_labels = pd.read_csv(os.path.join(output_path, train_labels_key))\n",
    "print(\"Num train labels: \", len(train_labels))\n",
    "train_labels.head()"
   ]
  },
  {
   "cell_type": "code",
   "execution_count": null,
   "id": "3ea494bb",
   "metadata": {},
   "outputs": [],
   "source": []
  }
 ],
 "metadata": {
  "kernelspec": {
   "display_name": "conda_pytorch_p36",
   "language": "python",
   "name": "conda_pytorch_p36"
  },
  "language_info": {
   "codemirror_mode": {
    "name": "ipython",
    "version": 3
   },
   "file_extension": ".py",
   "mimetype": "text/x-python",
   "name": "python",
   "nbconvert_exporter": "python",
   "pygments_lexer": "ipython3",
   "version": "3.6.13"
  }
 },
 "nbformat": 4,
 "nbformat_minor": 5
}
